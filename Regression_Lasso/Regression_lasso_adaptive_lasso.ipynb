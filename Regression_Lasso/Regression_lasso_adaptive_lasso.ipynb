{
 "cells": [
  {
   "cell_type": "markdown",
   "metadata": {},
   "source": [
    "## Jean-Eudes Rouffiac  \n",
    "\n",
    "&nbsp;\n",
    "\n",
    "&nbsp;"
   ]
  },
  {
   "cell_type": "markdown",
   "metadata": {},
   "source": [
    "# <center> TP 3 : Lasso </center>"
   ]
  },
  {
   "cell_type": "markdown",
   "metadata": {},
   "source": [
    "\n",
    "\n",
    "&nbsp;\n",
    "\n",
    "\n",
    "<p style=\"text-align:justify;\"> Dans ce TP nous allons voir la puissance de la régression Lasso en la comparant à d'autres méthodes de régression. Pour ce faire nous utiliserons le dataset Boston Housing Dataset. Ce dataset contient 506 données et 13 variables. L'objecitf est de prédire la valeur d'une maison en utilisant les variables explicatives suivantes : </p>\n",
    "\n",
    "* CRIM: Per capita crime rate by town\n",
    "\n",
    "* ZN: Proportion of residential land zoned for lots over 25,000 sq. ft\n",
    "\n",
    "* INDUS: Proportion of non-retail business acres per town\n",
    "\n",
    "* CHAS: Charles River dummy variable (= 1 if tract bounds river; 0 otherwise)\n",
    "\n",
    "* NOX: Nitric oxide concentration (parts per 10 million)\n",
    "\n",
    "* RM: Average number of rooms per dwelling\n",
    "\n",
    "* AGE: Proportion of owner-occupied units built prior to 1940\n",
    "\n",
    "* DIS: Weighted distances to five Boston employment centers\n",
    "\n",
    "* RAD: Index of accessibility to radial highways\n",
    "\n",
    "* TAX: Full-value property tax rate per $10,000\n",
    "\n",
    "* B: 1000(Bk - 0.63)², where Bk is the proportion of [people of African American descent] by town\n",
    "\n",
    "* LSTAT: Percentage of lower status of the population\n",
    "\n",
    "* MEDV: Median value of owner-occupied homes in $1000s\n",
    "\n"
   ]
  },
  {
   "cell_type": "markdown",
   "metadata": {},
   "source": [
    "\n",
    "&nbsp;\n",
    "\n",
    "\n",
    "<p style=\"text-align:justify;\"> Import des libraires </p>"
   ]
  },
  {
   "cell_type": "code",
   "execution_count": 26,
   "metadata": {
    "collapsed": true
   },
   "outputs": [],
   "source": [
    "import numpy as np\n",
    "import pandas as pd\n",
    "import matplotlib.pyplot as plt\n",
    "from sklearn.datasets import load_boston\n",
    "from sklearn.preprocessing import StandardScaler\n",
    "from sklearn.model_selection import train_test_split\n",
    "from sklearn import linear_model\n",
    "import cvxpy as cp\n",
    "%matplotlib inline"
   ]
  },
  {
   "cell_type": "markdown",
   "metadata": {},
   "source": [
    "\n",
    "&nbsp;\n",
    "\n",
    "\n",
    "<p style=\"text-align:justify;\"> Chargement du Dataset </p>"
   ]
  },
  {
   "cell_type": "code",
   "execution_count": 2,
   "metadata": {},
   "outputs": [
    {
     "name": "stdout",
     "output_type": "stream",
     "text": [
      "Boston House Prices dataset\n",
      "===========================\n",
      "\n",
      "Notes\n",
      "------\n",
      "Data Set Characteristics:  \n",
      "\n",
      "    :Number of Instances: 506 \n",
      "\n",
      "    :Number of Attributes: 13 numeric/categorical predictive\n",
      "    \n",
      "    :Median Value (attribute 14) is usually the target\n",
      "\n",
      "    :Attribute Information (in order):\n",
      "        - CRIM     per capita crime rate by town\n",
      "        - ZN       proportion of residential land zoned for lots over 25,000 sq.ft.\n",
      "        - INDUS    proportion of non-retail business acres per town\n",
      "        - CHAS     Charles River dummy variable (= 1 if tract bounds river; 0 otherwise)\n",
      "        - NOX      nitric oxides concentration (parts per 10 million)\n",
      "        - RM       average number of rooms per dwelling\n",
      "        - AGE      proportion of owner-occupied units built prior to 1940\n",
      "        - DIS      weighted distances to five Boston employment centres\n",
      "        - RAD      index of accessibility to radial highways\n",
      "        - TAX      full-value property-tax rate per $10,000\n",
      "        - PTRATIO  pupil-teacher ratio by town\n",
      "        - B        1000(Bk - 0.63)^2 where Bk is the proportion of blacks by town\n",
      "        - LSTAT    % lower status of the population\n",
      "        - MEDV     Median value of owner-occupied homes in $1000's\n",
      "\n",
      "    :Missing Attribute Values: None\n",
      "\n",
      "    :Creator: Harrison, D. and Rubinfeld, D.L.\n",
      "\n",
      "This is a copy of UCI ML housing dataset.\n",
      "http://archive.ics.uci.edu/ml/datasets/Housing\n",
      "\n",
      "\n",
      "This dataset was taken from the StatLib library which is maintained at Carnegie Mellon University.\n",
      "\n",
      "The Boston house-price data of Harrison, D. and Rubinfeld, D.L. 'Hedonic\n",
      "prices and the demand for clean air', J. Environ. Economics & Management,\n",
      "vol.5, 81-102, 1978.   Used in Belsley, Kuh & Welsch, 'Regression diagnostics\n",
      "...', Wiley, 1980.   N.B. Various transformations are used in the table on\n",
      "pages 244-261 of the latter.\n",
      "\n",
      "The Boston house-price data has been used in many machine learning papers that address regression\n",
      "problems.   \n",
      "     \n",
      "**References**\n",
      "\n",
      "   - Belsley, Kuh & Welsch, 'Regression diagnostics: Identifying Influential Data and Sources of Collinearity', Wiley, 1980. 244-261.\n",
      "   - Quinlan,R. (1993). Combining Instance-Based and Model-Based Learning. In Proceedings on the Tenth International Conference of Machine Learning, 236-243, University of Massachusetts, Amherst. Morgan Kaufmann.\n",
      "   - many more! (see http://archive.ics.uci.edu/ml/datasets/Housing)\n",
      "\n"
     ]
    }
   ],
   "source": [
    "boston = load_boston()\n",
    "print(boston.DESCR)"
   ]
  },
  {
   "cell_type": "markdown",
   "metadata": {},
   "source": [
    "\n",
    "&nbsp;\n",
    "\n",
    "\n",
    "<p style=\"text-align:justify;\"> Ajout de 5 variables inutiles (qui serviront dans la suite du TP) et on stocke les variables explicatives dans X et la variable à prédire dans y. </p>"
   ]
  },
  {
   "cell_type": "code",
   "execution_count": 27,
   "metadata": {
    "collapsed": true
   },
   "outputs": [],
   "source": [
    "n, p = boston.data.shape\n",
    "q = 5 # Nombre d'attributes inutiles à rajouter\n",
    "p += q # Nouveau nombre d'attributs\n",
    "\n",
    "rseed = 10\n",
    "np.random.seed(rseed)\n",
    "\n",
    "X = np.concatenate((boston.data, np.random.rand(n, q)), axis=1)\n",
    "y = boston.target"
   ]
  },
  {
   "cell_type": "markdown",
   "metadata": {},
   "source": [
    "# Régression linéaire\n",
    "\n",
    "&nbsp;\n",
    "\n",
    "<p style=\"text-align:justify;\">  Nous allons dans un premier temps utiliser une simple régression linéaire afin d'avoir un résultat de base sur lequel on pourra comparer nos différentes méthodes. Nous verrons 3 façons de faire une régression linéaire : avec scikit learn, en codant la méthode des moindres carrés à la main, et avec la librairie cvxpy qui permet de résoudre des problèmes d'opimisation.</p>\n",
    "\n",
    "\n",
    "## Régression linéaire full Scikit-learn\n",
    "\n",
    "&nbsp;"
   ]
  },
  {
   "cell_type": "code",
   "execution_count": 28,
   "metadata": {},
   "outputs": [],
   "source": [
    "X_train, X_test, y_train, y_test = train_test_split(X, y, test_size=0.5, random_state=rseed)\n",
    "\n",
    "\n",
    "#Entraînement du modèle\n",
    "model = linear_model.LinearRegression()\n",
    "results = model.fit(X_train, y_train)\n",
    "\n",
    "#Prédictions\n",
    "pred_train = model.predict(X_train)\n",
    "pred_test = model.predict(X_test)\n"
   ]
  },
  {
   "cell_type": "code",
   "execution_count": 29,
   "metadata": {},
   "outputs": [
    {
     "name": "stdout",
     "output_type": "stream",
     "text": [
      "Score sur les données d'apprentissage :\n",
      "MAE : 3.23 \n",
      "MSE : 19.90 \n",
      "RMSE : 4.46 \n",
      "\n",
      "\n",
      "Score sur les données test :\n",
      "MAE : 3.40 \n",
      "MSE : 24.53 \n",
      "RMSE : 4.95 \n"
     ]
    }
   ],
   "source": [
    "from sklearn import metrics \n",
    "\n",
    "print(\"Score sur les données d'apprentissage :\")\n",
    "print(\"MAE : %.2f \" %(metrics.mean_absolute_error(y_train, pred_train)))\n",
    "print(\"MSE : %.2f \" %(metrics.mean_squared_error(y_train, pred_train)))\n",
    "print(\"RMSE : %.2f \"%(np.sqrt(metrics.mean_squared_error(y_train, pred_train))))\n",
    "\n",
    "print(\"\\n\")\n",
    "\n",
    "print(\"Score sur les données test :\")\n",
    "print(\"MAE : %.2f \" %(metrics.mean_absolute_error(y_test, pred_test)))\n",
    "print(\"MSE : %.2f \" %(metrics.mean_squared_error(y_test, pred_test)))\n",
    "print(\"RMSE : %.2f \"%(np.sqrt(metrics.mean_squared_error(y_test, pred_test))))\n"
   ]
  },
  {
   "cell_type": "markdown",
   "metadata": {},
   "source": [
    "&nbsp;\n",
    "\n",
    "### Fonction MSE à la main\n",
    "\n",
    "<p style=\"text-align:justify;\"> On a utilisé précédemment les métrique de SKlearn. On vérifie les résultats obtenus pour MSE en codant la fonction. </p>\n",
    "\n",
    "&nbsp;"
   ]
  },
  {
   "cell_type": "code",
   "execution_count": 30,
   "metadata": {},
   "outputs": [
    {
     "name": "stdout",
     "output_type": "stream",
     "text": [
      "MSE : 24.53 \n"
     ]
    }
   ],
   "source": [
    "def mse(target, pred):\n",
    "    nt = len(pred)\n",
    "    return ( np.mean((target - pred)**2))\n",
    "    \n",
    "print(\"MSE : %.2f \" %(mse(y_test, pred_test)))"
   ]
  },
  {
   "cell_type": "markdown",
   "metadata": {},
   "source": [
    "<p style=\"text-align:justify;\"> On obtient bien la même valeur. </p>\n",
    "\n",
    "&nbsp;"
   ]
  },
  {
   "cell_type": "markdown",
   "metadata": {},
   "source": [
    "&nbsp;\n",
    "\n",
    "## Avec régression linéaire à la main\n",
    "\n",
    "&nbsp;\n",
    "\n",
    "<p style=\"text-align:justify;\">  </p>"
   ]
  },
  {
   "cell_type": "markdown",
   "metadata": {},
   "source": [
    "<p style=\"text-align:justify;\"> Implémentation de la fonction régression linéaire avec la méthode des moindres carrés</p>\n",
    "\n",
    "&nbsp;"
   ]
  },
  {
   "cell_type": "code",
   "execution_count": 32,
   "metadata": {},
   "outputs": [],
   "source": [
    "def linreg(X, y):\n",
    "    intercept = np.ones((len(X_train), 1)) #Création colonne de 1\n",
    "    X = np.concatenate((intercept, X_train), axis=1) #Ajout colonne de 1 \n",
    "    beta_chap = np.linalg.solve(np.dot(X.T,X), np.dot(X.T,y)) #Résolution du système linéaire\n",
    "    return beta_chap # On retourne beta_chap, le vecteur qui contient les coefficient"
   ]
  },
  {
   "cell_type": "code",
   "execution_count": 33,
   "metadata": {},
   "outputs": [
    {
     "name": "stdout",
     "output_type": "stream",
     "text": [
      "MCO -- MSE apprentissage : 19.90 \n",
      "MCO -- MSE test : 24.53 \n"
     ]
    }
   ],
   "source": [
    "# Prédiction des données d'apprentissage et test # affiche du score MSE\n",
    "\n",
    "beta_chap = linreg(X_train, y_train)\n",
    "\n",
    "intercept = np.ones((len(X_train), 1))\n",
    "intercept = np.ones((len(X_test), 1))\n",
    "\n",
    "X_train = np.concatenate((intercept, X_train), axis=1)\n",
    "X_test = np.concatenate((intercept, X_test), axis=1)\n",
    "\n",
    "pred_train = np.dot(X_train, beta_chap)\n",
    "pred_test = np.dot(X_test, beta_chap)\n",
    "\n",
    "print(\"MCO -- MSE apprentissage : %.2f \" %(mse(y_train, pred_train)))\n",
    "print(\"MCO -- MSE test : %.2f \" %(mse(y_test, pred_test)))"
   ]
  },
  {
   "cell_type": "markdown",
   "metadata": {},
   "source": [
    "&nbsp;\n",
    "\n",
    "## Avec cvxpy\n",
    "\n",
    "&nbsp;\n",
    "\n",
    "<p style=\"text-align:justify;\">  </p>"
   ]
  },
  {
   "cell_type": "code",
   "execution_count": 14,
   "metadata": {},
   "outputs": [
    {
     "name": "stdout",
     "output_type": "stream",
     "text": [
      "\n",
      "The optimal value is 5035.660566275932\n",
      "Beta optimal :\n",
      "[ 1.93234928e+01  1.94616734e+01 -1.46549639e-01  6.54859490e-02\n",
      "  3.06792631e-02  2.75485053e+00 -1.94435585e+01  3.40296251e+00\n",
      "  3.12891018e-03 -1.69591626e+00  2.91090000e-01 -1.36215912e-02\n",
      " -8.54649965e-01  1.00839076e-02 -5.03591310e-01 -3.55720474e-01\n",
      " -2.74855323e-01  9.07094966e-01  7.30374192e-01 -1.23213394e+00]\n"
     ]
    }
   ],
   "source": [
    "X_train, X_test, y_train, y_test = train_test_split(X, y, test_size=0.5, random_state=rseed)\n",
    "\n",
    "# Même principe que précedemment, on ajoute une colonne de 1 aux données X_train et X_test\n",
    "\n",
    "intercept = np.ones((len(X_train), 1))\n",
    "intercept = np.ones((len(X_test), 1))\n",
    "\n",
    "X_train = np.concatenate((intercept, X_train), axis=1)\n",
    "X_test = np.concatenate((intercept, X_test), axis=1)\n",
    "\n",
    "\n",
    "# Definition et résolution du problème \n",
    "beta_chap = cp.Variable(len(X_train[1]))\n",
    "cost = cp.sum_squares(X_train*beta_chap - y_train)\n",
    "prob = cp.Problem(cp.Minimize(cost))\n",
    "prob.solve()\n",
    "\n",
    "# Print result.\n",
    "print(\"\\nThe optimal value is\", prob.value)\n",
    "print(\"Beta optimal :\")\n",
    "print(beta_chap.value)\n"
   ]
  },
  {
   "cell_type": "code",
   "execution_count": 16,
   "metadata": {},
   "outputs": [
    {
     "name": "stdout",
     "output_type": "stream",
     "text": [
      "MSE apprentissage : 19.90 \n",
      "MSE test : 24.53 \n"
     ]
    }
   ],
   "source": [
    "#Prédictions des données d'apprentissage et test + affichage MSE\n",
    "\n",
    "pred_train = np.dot(X_train, beta_chap.value)\n",
    "pred_test = np.dot(X_test, beta_chap.value)\n",
    "print(\"MSE apprentissage : %.2f \" %(mse(y_train, pred_train)))\n",
    "print(\"MSE test : %.2f \" %(mse(y_test, pred_test)))"
   ]
  },
  {
   "cell_type": "markdown",
   "metadata": {},
   "source": [
    "&nbsp;\n",
    "\n",
    "<p style=\"text-align:justify;\"> Nous avons donc vérifier qu'avec les trois méthodes, nous obtenions bien les mêmes résultats.</p>\n",
    "\n",
    "\n",
    "\n",
    "<p style=\"text-align:justify;\"> Regardons maintenant les résultats obtenus avec la régression Ridge.</p>\n",
    "\n",
    "\n"
   ]
  },
  {
   "cell_type": "markdown",
   "metadata": {},
   "source": [
    "&nbsp;\n",
    "\n",
    "# Régression Ridge\n",
    "\n",
    "\n",
    "&nbsp;\n",
    "\n",
    "## En codant Ridge à la main + KFolds\n",
    "\n",
    "&nbsp;"
   ]
  },
  {
   "cell_type": "code",
   "execution_count": 45,
   "metadata": {},
   "outputs": [],
   "source": [
    "X_train, X_test, y_train, y_test = train_test_split(X, y, test_size=0.5, random_state=rseed)"
   ]
  },
  {
   "cell_type": "markdown",
   "metadata": {},
   "source": [
    "&nbsp;\n",
    "\n",
    "#### Définition de la fonction Ridge\n",
    "\n",
    "&nbsp;\n",
    "\n",
    "<p style=\"text-align:justify;\">  </p>"
   ]
  },
  {
   "cell_type": "code",
   "execution_count": 46,
   "metadata": {},
   "outputs": [],
   "source": [
    "def linregRidge(X, y, alpha):\n",
    "    beta_chap = np.linalg.solve(np.dot(X.T,X) + alpha * np.eye(len(X[1])) , np.dot(X.T,y)) #Résolution du système linéaire\n",
    "    return beta_chap # On retourne beta_chap, le vecteur qui contient les coefficients"
   ]
  },
  {
   "cell_type": "markdown",
   "metadata": {},
   "source": [
    "&nbsp;\n",
    "\n",
    "#### Recherche du lambda optimal via KFold\n",
    "\n",
    "&nbsp;\n",
    "\n",
    "<p style=\"text-align:justify;\">  </p>"
   ]
  },
  {
   "cell_type": "code",
   "execution_count": 47,
   "metadata": {},
   "outputs": [
    {
     "name": "stdout",
     "output_type": "stream",
     "text": [
      "La pénalité optimale est 0.160. \n"
     ]
    }
   ],
   "source": [
    "from sklearn.model_selection import KFold\n",
    "\n",
    "kf = KFold(n_splits=3)\n",
    "\n",
    "alpha = [i/100 for i in range(1,1000)]\n",
    "perf_val = [[], [], []]\n",
    "decoupage = 0\n",
    "\n",
    "for train , valid in kf.split(X_train):\n",
    "    X_t = X_train[train,:]\n",
    "    Y_t = y_train[train]\n",
    "    X_v = X_train[valid,:]\n",
    "    Y_v = y_train[valid]\n",
    "    \n",
    "    m_t = [X_t[:,k].mean() for k in range(len(X_t[1]))]\n",
    "    sigma_t = [X_t[:,k].std() for k in range(len(X_t[1]))]\n",
    "    m_y = Y_t.mean()\n",
    "    sigma_y = Y_t.std()\n",
    "    X_t = (X_t - m_t) \n",
    "    X_v = (X_v - m_t) \n",
    "    Y_t = (Y_t - m_y)   \n",
    "    \n",
    "    for a in alpha :\n",
    "        beta_chap = linregRidge(X_t, Y_t, a)\n",
    "        pred_valid = np.dot(X_v, beta_chap)\n",
    "        pred_valid = pred_valid + m_y\n",
    "        perf_val[decoupage].append(mse(Y_v, pred_valid))\n",
    "    decoupage += 1\n",
    "    \n",
    "perf_globale = np.zeros((len(alpha), 1))\n",
    "\n",
    "for i in range(0, len(alpha)):\n",
    "    perf_globale[i] = perf_val[0][i] + perf_val[1][i] + perf_val[2][i]\n",
    "    perf_globale[i] /= 3\n",
    "    \n",
    "a_opt = alpha[np.argmin(perf_globale)]\n",
    "print('La pénalité optimale est %.3f. ' %a_opt)"
   ]
  },
  {
   "cell_type": "markdown",
   "metadata": {},
   "source": [
    "&nbsp;\n",
    "\n",
    "#### Entraînement du modèle sur l'échantillon d'apprentissage  avec la pénalité optimale\n",
    "\n",
    "&nbsp;\n",
    "\n",
    "<p style=\"text-align:justify;\">  </p>"
   ]
  },
  {
   "cell_type": "code",
   "execution_count": 48,
   "metadata": {},
   "outputs": [],
   "source": [
    "m_t = [X_train[:,k].mean() for k in range(len(X_t[1]))]\n",
    "m_y = y_train.mean()\n",
    "X_test = (X_test - m_t) \n",
    "y_test = (y_test - m_y) \n",
    "X_train = (X_train - m_t) \n",
    "y_train = (y_train - m_y) \n",
    " \n",
    "    \n",
    "beta_chap = linregRidge(X_train, y_train, a_opt)"
   ]
  },
  {
   "cell_type": "markdown",
   "metadata": {},
   "source": [
    "&nbsp;\n",
    "\n",
    "#### Prédiction à l'aide du modèle\n",
    "\n",
    "&nbsp;\n",
    "\n",
    "<p style=\"text-align:justify;\">  </p>"
   ]
  },
  {
   "cell_type": "code",
   "execution_count": 49,
   "metadata": {},
   "outputs": [
    {
     "name": "stdout",
     "output_type": "stream",
     "text": [
      "MSE apprentissage : 19.94 \n",
      "MSE test : 24.47 \n"
     ]
    }
   ],
   "source": [
    "pred_train = np.dot(X_train, beta_chap) + m_y\n",
    "pred_test = np.dot(X_test, beta_chap) + m_y\n",
    "\n",
    "print(\"MSE apprentissage : %.2f \" %(mse(y_train + m_y, pred_train)))\n",
    "print(\"MSE test : %.2f \" %(mse(y_test + m_y, pred_test)))"
   ]
  },
  {
   "cell_type": "markdown",
   "metadata": {},
   "source": [
    "&nbsp;\n",
    "\n",
    "<p style=\"text-align:justify;\"> On obtient donc un meilleur résultat que pour la méthode des moindres carrés ordinaires (nous avions obtenu 24.53). On pourrait utiliser comme précédemment Sklearn et CVXPY pour voir les résultats obtenus mais ce n'est pas vraiment l'objet du TP (c'était l'objet du TP2). On a juste pu voir qu'avec Ridge nous obtenions un meilleur résultat et nous allons maintenant voir si Lasso permet d'obtenir un résultat encore meilleur.  </p>"
   ]
  },
  {
   "cell_type": "markdown",
   "metadata": {},
   "source": [
    "&nbsp;\n",
    "\n",
    "# Régression Lasso\n",
    "\n",
    "&nbsp;\n",
    "\n",
    "<p style=\"text-align:justify;\"> La régression Lasso est comme la régression Ridge, une régression pénalisée. On cherche à minimiser la fonction coût : \n",
    "\n",
    "$$\\lVert y-X\\beta \\rVert^2 + \\lambda \\lVert \\beta \\rVert_1$$  avec $\\lVert \\beta \\rVert_1 = \\sum_{j=1}^{p}| \\beta_j| $  </p>\n",
    "\n",
    "<p style=\"text-align:justify;\"> Nous utiliserons d'abord CVX, puis nous comparerons avec les résultats de Scikit Learn. Nous ne coderons pas à la main la fonction car la solution du problème de minimisation n'est pas explicite.</p>\n",
    "\n",
    "\n",
    "&nbsp;\n",
    "\n",
    "## En utilisant cvxpy\n",
    "\n",
    "&nbsp;"
   ]
  },
  {
   "cell_type": "code",
   "execution_count": 50,
   "metadata": {
    "collapsed": true
   },
   "outputs": [],
   "source": [
    "X_train, X_test, y_train, y_test = train_test_split(X, y, test_size=0.5, random_state=rseed)"
   ]
  },
  {
   "cell_type": "markdown",
   "metadata": {},
   "source": [
    "&nbsp;\n",
    "\n",
    "<p style=\"text-align:justify;\"> Nous définissons la fonction cvx qui permet de calculer les beta chapeaux. On a juste ajouté *alpha $\\times$ cp.norm1(beta_chap)* à la fonction coût par rapport à la méthode des moindres carrés ordinaires. </p>\n",
    "\n",
    "\n",
    "&nbsp;"
   ]
  },
  {
   "cell_type": "code",
   "execution_count": 51,
   "metadata": {},
   "outputs": [],
   "source": [
    "def cvx(X, y, alpha):\n",
    "    beta_chap = cp.Variable(len(X[1]))\n",
    "    cost = cp.sum_squares(X*beta_chap - y) + alpha* cp.norm1(beta_chap)\n",
    "    prob = cp.Problem(cp.Minimize(cost))\n",
    "    prob.solve()\n",
    "    return (beta_chap.value)"
   ]
  },
  {
   "cell_type": "markdown",
   "metadata": {},
   "source": [
    "&nbsp;\n",
    "\n",
    "<p style=\"text-align:justify;\"> Le paramètre $\\alpha$ est donc un hyper paramètre. Il faut donc le choisir de façon à ce qu'il minimise le MSE. Pour ce faire, nous allons utiliser Kfolds pour trouver un $\\alpha$ robuste au découpage. </p>\n",
    "\n",
    "\n",
    "&nbsp;"
   ]
  },
  {
   "cell_type": "code",
   "execution_count": 54,
   "metadata": {},
   "outputs": [
    {
     "name": "stdout",
     "output_type": "stream",
     "text": [
      "La pénalité optimale est 4.000. \n"
     ]
    }
   ],
   "source": [
    "from sklearn.model_selection import KFold\n",
    "\n",
    "kf = KFold(n_splits=3)\n",
    "\n",
    "#Alpha qui vont être testés\n",
    "alpha = [i for i in range(1,10)]\n",
    "\n",
    "#Tableau qui va stocker les résultats\n",
    "perf_val = [[], [], []]\n",
    "decoupage = 0\n",
    "\n",
    "for train , valid in kf.split(X_train):\n",
    "    X_t = X_train[train,:]\n",
    "    Y_t = y_train[train]\n",
    "    X_v = X_train[valid,:]\n",
    "    Y_v = y_train[valid]\n",
    "    \n",
    "    #Les données sont centrées et réduites en fonction des données train\n",
    "    m_t = [X_t[:,k].mean() for k in range(len(X_t[1]))]\n",
    "    sigma_t = [X_t[:,k].std() for k in range(len(X_t[1]))]\n",
    "    m_y = Y_t.mean()\n",
    "    sigma_y = Y_t.std()\n",
    "    X_t = (X_t - m_t) / sigma_t\n",
    "    X_v = (X_v - m_t) / sigma_t\n",
    "    Y_t = (Y_t - m_y) / sigma_y\n",
    "    \n",
    "    for a in alpha :\n",
    "        #Calcul du beta_chap en appelant la fonction cvx\n",
    "        beta_chap = cvx(X_t, Y_t, a)\n",
    "        #On prédit les données de validation grâce à beta_chap\n",
    "        pred = np.dot(X_v, beta_chap)\n",
    "        #On dénormalise les données pour qu'elles puissent être comparés aux Y_v\n",
    "        pred_denormalise = np.dot(pred, sigma_y) + m_y\n",
    "        #On ajoute le résultat du MSE dans le tableau per_val\n",
    "        perf_val[decoupage].append(mse(Y_v, pred_denormalise))\n",
    "    decoupage += 1\n",
    "    \n",
    "perf_globale = np.zeros((len(alpha), 1))\n",
    "\n",
    "#Selection du meilleur alpha\n",
    "for i in range(0, len(alpha)):\n",
    "    perf_globale[i] = perf_val[0][i] + perf_val[1][i] + perf_val[2][i]\n",
    "    perf_globale[i] /= 3\n",
    "a_opt = alpha[np.argmin(perf_globale)]\n",
    "print('La pénalité optimale est %.3f. ' %(a_opt))"
   ]
  },
  {
   "cell_type": "markdown",
   "metadata": {},
   "source": [
    "&nbsp;\n",
    "\n",
    "<p style=\"text-align:justify;\"> On peut alors entraîner notre échantillon d'apprentissage avec la pénalité optimale trouvée, puis on prédit nos données test. </p>\n",
    "\n",
    "\n",
    "&nbsp;"
   ]
  },
  {
   "cell_type": "code",
   "execution_count": 30,
   "metadata": {},
   "outputs": [
    {
     "name": "stdout",
     "output_type": "stream",
     "text": [
      "LASSO -- MSE train : 20.18 \n",
      "LASSO -- MSE test : 24.27 \n"
     ]
    }
   ],
   "source": [
    "# On normalise les données\n",
    "\n",
    "m_x = [X_train[:,k].mean() for k in range(len(X_train[1]))]\n",
    "sigma_x = [X_train[:,k].std() for k in range(len(X_train[1]))]\n",
    "m_y = y_train.mean()\n",
    "sigma_y = y_train.std()\n",
    "X_train = (X_train - m_x) / sigma_x\n",
    "X_test = (X_test - m_x) / sigma_x\n",
    "y_train = (y_train - m_y) / sigma_y\n",
    "\n",
    "\n",
    "# Definition et résolution du problème \n",
    "beta_chap = cvx(X_train, y_train, a_opt)\n",
    "pred_train = np.dot(np.dot(X_train, beta_chap), sigma_y) + m_y\n",
    "pred_test = np.dot(np.dot(X_test, beta_chap), sigma_y) + m_y\n",
    "print(\"LASSO -- MSE train : %.2f \" %(mse(np.dot(y_train, sigma_y) + m_y , pred_train)))\n",
    "print(\"LASSO -- MSE test : %.2f \" %(mse(y_test, pred_test)))"
   ]
  },
  {
   "cell_type": "markdown",
   "metadata": {},
   "source": [
    "&nbsp;\n",
    "\n",
    "<p style=\"text-align:justify;\"> On obtient alors une nette amélioration du résultat puisqu'on obtient 24.27 en MSE, alors qu'on avait 24.47 pour Ridge. </p>\n",
    "\n",
    "\n",
    "&nbsp;"
   ]
  },
  {
   "cell_type": "markdown",
   "metadata": {},
   "source": [
    "\n",
    "&nbsp;\n",
    "\n",
    "## En utilisant scikit_learn\n",
    "\n",
    "&nbsp;\n",
    "\n",
    "<p style=\"text-align:justify;\"> Nous utiliserons comme d'habitude KFolds pour obtenir le $\\alpha$ optimal avec la fonction lasso de Scikit Learn. Nos données vont être centrées et réduites donc on met le paramètre intercept de la fonction lasso à False. </p>\n",
    "\n",
    "\n",
    "&nbsp;"
   ]
  },
  {
   "cell_type": "code",
   "execution_count": 55,
   "metadata": {
    "collapsed": true
   },
   "outputs": [],
   "source": [
    "X_train, X_test, y_train, y_test = train_test_split(X, y, test_size=0.5, random_state=rseed)"
   ]
  },
  {
   "cell_type": "code",
   "execution_count": 56,
   "metadata": {},
   "outputs": [
    {
     "name": "stdout",
     "output_type": "stream",
     "text": [
      "La pénalité optimale est 0.010. \n"
     ]
    }
   ],
   "source": [
    "from sklearn.model_selection import KFold\n",
    "\n",
    "kf = KFold(n_splits=3)\n",
    "\n",
    "alpha = [i/100 for i in range(1,1000)]\n",
    "perf_val = [[], [], []]\n",
    "decoupage = 0\n",
    "\n",
    "for train , valid in kf.split(X_train):\n",
    "    X_t = X_train[train,:]\n",
    "    Y_t = y_train[train]\n",
    "    X_v = X_train[valid,:]\n",
    "    Y_v = y_train[valid]\n",
    "    \n",
    "    m_t = [X_t[:,k].mean() for k in range(len(X_t[1]))]\n",
    "    sigma_t = [X_t[:,k].std() for k in range(len(X_t[1]))]\n",
    "    m_y = Y_t.mean()\n",
    "    sigma_y = Y_t.std()\n",
    "    X_t = (X_t - m_t) / sigma_t\n",
    "    X_v = (X_v - m_t) / sigma_t\n",
    "    Y_t = (Y_t - m_y) / sigma_y\n",
    "    \n",
    "    for a in alpha :\n",
    "        lasso = linear_model.Lasso(alpha=a, fit_intercept = False)\n",
    "        lasso.fit(X_t, Y_t)\n",
    "        pred_valid = lasso.predict(X_v)* sigma_y + m_y\n",
    "        perf_val[decoupage].append(mse(Y_v , pred_valid))\n",
    "    decoupage += 1\n",
    "    \n",
    "perf_globale = np.zeros((len(alpha), 1))\n",
    "\n",
    "for i in range(0, len(alpha)):\n",
    "    perf_globale[i] = perf_val[0][i] + perf_val[1][i] + perf_val[2][i]\n",
    "    perf_globale[i] /= 3\n",
    "a_opt = alpha[np.argmin(perf_globale)]\n",
    "print('La pénalité optimale est %.3f. ' %a_opt)"
   ]
  },
  {
   "cell_type": "markdown",
   "metadata": {},
   "source": [
    "&nbsp;\n",
    "\n",
    "<p style=\"text-align:justify;\"> On entraîne alors notre modèle sur les données d'apprentissage normalisées avec la pénalité optimale puis on prédit nos données d'apprentissage et test. </p>\n",
    "\n",
    "\n",
    "&nbsp;"
   ]
  },
  {
   "cell_type": "code",
   "execution_count": 247,
   "metadata": {},
   "outputs": [
    {
     "name": "stdout",
     "output_type": "stream",
     "text": [
      "LASSO -- MSE train : 20.33 \n",
      "LASSO -- MSE test : 24.30 \n"
     ]
    }
   ],
   "source": [
    "m_x = [X_train[:,k].mean() for k in range(len(X_train[1]))]\n",
    "sigma_x = [X_train[:,k].std() for k in range(len(X_train[1]))]\n",
    "m_y = y_train.mean()\n",
    "sigma_y = y_train.std()\n",
    "X_train = (X_train - m_x) / sigma_x\n",
    "X_test = (X_test - m_x) / sigma_x\n",
    "y_train = (y_train - m_y) / sigma_y \n",
    "\n",
    "lasso = linear_model.Lasso(alpha= a_opt , fit_intercept = False)\n",
    "lasso.fit(X_train, y_train)\n",
    "\n",
    "pred_train = lasso.predict(X_train) * sigma_y + m_y \n",
    "pred_test = lasso.predict(X_test) * sigma_y + m_y \n",
    "print(\"LASSO -- MSE train : %.2f \" %(mse(y_train * sigma_y + m_y, pred_train)))\n",
    "print(\"LASSO -- MSE test : %.2f \" %(mse(y_test, pred_test)))"
   ]
  },
  {
   "cell_type": "markdown",
   "metadata": {},
   "source": [
    "&nbsp;\n",
    "\n",
    "<p style=\"text-align:justify;\"> On obtient donc un moins bon résultat qu'avec CVX. Il semblerait que la fonction Lasso de SKlearn soit codée différement. Le $\\alpha$ trouvé est d'ailleurs très différent de celui trouvé avec CVX. Dans tous les cas on peut voir l'importance de coder soit même les fonctions plutôt que d'utiliser SKlearn. Du moins il est toujours mieux de comparer pour une méthode donnée, les résultats avec SKlearn et lorsqu'on code à la main la méthode. </p>\n",
    "\n",
    "\n",
    "&nbsp;\n",
    "\n",
    "<p style=\"text-align:justify;\"> On peut représenter l'évolution du MSE en fonction de la valeur de Lambda sur le graphique ci-dessous. On peut voit très clairement que le MSE augmente drastiquement de 0 à 1, puis semble se stabiliser. </p>\n",
    "\n",
    "\n",
    "&nbsp;"
   ]
  },
  {
   "cell_type": "code",
   "execution_count": 57,
   "metadata": {},
   "outputs": [
    {
     "data": {
      "text/plain": [
       "Text(0,0.5,'MSE')"
      ]
     },
     "execution_count": 57,
     "metadata": {},
     "output_type": "execute_result"
    },
    {
     "data": {
      "image/png": "[encoded data removed]",
      "text/plain": [
       "<matplotlib.figure.Figure at 0x1a1d7c5518>"
      ]
     },
     "metadata": {},
     "output_type": "display_data"
    }
   ],
   "source": [
    "plt.figure()\n",
    "plt.plot(alpha, perf_globale, color='green', linestyle='--', marker='s', markersize=1, label='Validation')\n",
    "plt.xlabel('Parametre Lambda')\n",
    "plt.ylabel('MSE')"
   ]
  },
  {
   "cell_type": "markdown",
   "metadata": {},
   "source": [
    "\n",
    "&nbsp;\n",
    "\n",
    "## Evolution des paramètres en fonction de lambda\n",
    "\n",
    "&nbsp;\n",
    "\n",
    "\n",
    "\n",
    "<p style=\"text-align:justify;\"> Le graphique suivant montre tout le principe de Lasso. En effet on observe bien le \"Shinkrage\" (rétrecissement) des coefficients lorsque la valeur de la pénalité augmente. Lorsque $\\lambda = 0$, on retrouve l'estimateur des moindres carrés. Lorsque $\\lambda$ tend vers des très grandes valeurs, les coefficients s'annulent tous, ce qui n'était pas le cas de la régression Ridge. En effet, la régression Ridge permet de réduire l'amplitude des coefficients d'une régression linéaire. Avec Lasso, des coefficients peuvent s'annuler, rendant le modèle parcimonieux. C'est pourquoi on dit que Lasso est une méthode de sélection de variables. </p>\n",
    "\n",
    "<p style=\"text-align:justify;\"> En testant lasso pour différentes valeurs de $\\lambda$, on obtient un chemin solution représentant l'évolution des coefficients. La courbe d'un coefficient estimé en fonction de $\\lambda$ est linéaire par morceaux. Sur le graphique ci-dessous, on observe bien que les variables inutiles ajoutées au modèle sont déjà avec l'estimateur des moindres carrés proches de 0, mais que lorsque $\\lambda$ augmente, elles s'annulent rapidement. Pour les autres variables, on observe qu'elles s'annulent bien au fur et à mesure que $\\lambda$ augmente.</p>\n",
    "\n",
    "\n",
    "\n",
    "&nbsp;\n"
   ]
  },
  {
   "cell_type": "code",
   "execution_count": 303,
   "metadata": {},
   "outputs": [
    {
     "data": {
      "image/png": "[encoded data removed]",
      "text/plain": [
       "<matplotlib.figure.Figure at 0x1a23d87320>"
      ]
     },
     "metadata": {},
     "output_type": "display_data"
    }
   ],
   "source": [
    "X_train, X_test, y_train, y_test = train_test_split(X, y, test_size=0.5, random_state=rseed)\n",
    "\n",
    "m_x = [X_train[:,k].mean() for k in range(len(X_train[1]))]\n",
    "sigma_x = [X_train[:,k].std() for k in range(len(X_train[1]))]\n",
    "m_y = y_train.mean()\n",
    "sigma_y = y_train.std()\n",
    "X_train = (X_train - m_x) / sigma_x\n",
    "X_test = (X_test - m_x) / sigma_x\n",
    "y_train = (y_train - m_y) / sigma_y \n",
    "\n",
    "Lam = np.logspace(-1,3,30)\n",
    "Betas = np.linalg.solve(X_train.T @ X_train, X_train.T @ y_train)\n",
    "for lam in Lam:\n",
    "  beta1 = cp.Variable(p)\n",
    "  objective = cp.Minimize(cp.sum_squares(X_train @ beta1 - y_train) + lam*cp.norm(beta1, 1))\n",
    "  problem = cp.Problem(objective)\n",
    "  problem.solve()\n",
    "  Betas = np.c_[Betas, beta1.value]\n",
    "\n",
    "plt.figure(figsize=(9 * 2 + 3, 5))\n",
    "plt.plot(Betas.T,'o-')\n",
    "plt.show()"
   ]
  },
  {
   "cell_type": "code",
   "execution_count": 313,
   "metadata": {},
   "outputs": [
    {
     "data": {
      "image/png": "[encoded data removed]",
      "text/plain": [
       "<matplotlib.figure.Figure at 0x1a238feac8>"
      ]
     },
     "metadata": {},
     "output_type": "display_data"
    }
   ],
   "source": [
    "X_train, X_test, y_train, y_test = train_test_split(X, y, test_size=0.5, random_state=rseed)\n",
    "\n",
    "m_x = [X_train[:,k].mean() for k in range(len(X_train[1]))]\n",
    "sigma_x = [X_train[:,k].std() for k in range(len(X_train[1]))]\n",
    "m_y = y_train.mean()\n",
    "sigma_y = y_train.std()\n",
    "X_train = (X_train - m_x) / sigma_x\n",
    "X_test = (X_test - m_x) / sigma_x\n",
    "y_train = (y_train - m_y) / sigma_y \n",
    "\n",
    "Lam = np.linspace(1,400,400)\n",
    "Betas = np.linalg.solve(X_train.T @ X_train, X_train.T @ y_train)\n",
    "for lam in Lam:\n",
    "  beta1 = cp.Variable(p)\n",
    "  objective = cp.Minimize(cp.sum_squares(X_train @ beta1 - y_train) + lam*cp.norm(beta1, 1))\n",
    "  problem = cp.Problem(objective)\n",
    "  problem.solve()\n",
    "  Betas = np.c_[Betas, beta1.value]\n",
    "\n",
    "\n",
    "plt.figure(figsize=(9 * 2 + 3, 5))\n",
    "plt.plot(Betas.T,'-')\n",
    "plt.show()"
   ]
  },
  {
   "cell_type": "markdown",
   "metadata": {},
   "source": [
    "&nbsp;\n",
    "\n",
    "# Elastic Net\n",
    "\n",
    "&nbsp;\n",
    "\n",
    "<p style=\"text-align:justify;\"> Nous avons donc vu que l'utilisation de la norme L2 dans Ridge permet d'éviter le sur-apprentissage avec une solution unique, et que l'utilisation de la norme L1 permet d'avoir un modèle avec des coefficients nuls, mais le modèle peut être instable. En effet si plusieurs variables sont corrélées, le lasso va avoir tendance à choisir une seule d'entre elles et annuler les autres, alors que Ridge aurait réparti les poids équitablement. Cette variable différente de 0 est choisie aléatoirement et peut changer si l'optimisation est répétée plusieurs fois, d'où le lasso a tendance à être instable.</p>\n",
    "\n",
    "<p style=\"text-align:justify;\"> C'est ainsi qu'Elastic Net a été introduit. Ce modèle combine les deux pénalités.</p>\n",
    "\n",
    "$$arg \\min_{\\beta}\\lVert y-X\\beta \\rVert^2 + \\lambda ( \\lVert \\beta \\rVert_1 + \\mu \\lVert \\beta \\rVert_2^2 ) $$ \n",
    "\n",
    "En revanche, il y a maintenant deux hyper paramètres à optimiser, ce qui peut être coûteux en calcul.\n",
    "\n",
    "<p style=\"text-align:justify;\"> Testons maintenant Elastic Net grâce à la librairie CVX.</p>\n",
    "\n",
    "&nbsp;"
   ]
  },
  {
   "cell_type": "code",
   "execution_count": 31,
   "metadata": {
    "collapsed": true
   },
   "outputs": [],
   "source": [
    "X_train, X_test, y_train, y_test = train_test_split(X, y, test_size=0.5, random_state=rseed)"
   ]
  },
  {
   "cell_type": "markdown",
   "metadata": {},
   "source": [
    "&nbsp;\n",
    "\n",
    "<p style=\"text-align:justify;\"> Définition de la fonction cvx qui renvoie les beta chapeaux.</p>\n",
    "\n",
    "&nbsp;"
   ]
  },
  {
   "cell_type": "code",
   "execution_count": 181,
   "metadata": {},
   "outputs": [],
   "source": [
    "def cvx(X, y, alpha, mu):\n",
    "    beta_chap = cp.Variable(len(X[1]))\n",
    "    cost = cp.sum_squares(X*beta_chap - y) + alpha*( cp.norm1(beta_chap) + mu * cp.norm2(beta_chap)**2)\n",
    "    prob = cp.Problem(cp.Minimize(cost))\n",
    "    prob.solve()\n",
    "    return (beta_chap.value)"
   ]
  },
  {
   "cell_type": "markdown",
   "metadata": {},
   "source": [
    "&nbsp;\n",
    "\n",
    "<p style=\"text-align:justify;\"> On cherche les paramètres optimaux en utilisant le data test par manque de temps malheureusement. C'est juste pour regarder les performances rapidement, sinon il aurait fallu faire comme précédement utiliser des données de validation pour trouver les hyper paramètres optimaux.</p>\n",
    "\n",
    "&nbsp;"
   ]
  },
  {
   "cell_type": "code",
   "execution_count": 33,
   "metadata": {},
   "outputs": [
    {
     "name": "stdout",
     "output_type": "stream",
     "text": [
      "Paramètres optimaux : \n",
      "Lambda : 4\n",
      "Mu : 0.100000\n"
     ]
    }
   ],
   "source": [
    "#Normalisation des données\n",
    "m_x = [X_train[:,k].mean() for k in range(len(X_train[1]))]\n",
    "sigma_x = [X_train[:,k].std() for k in range(len(X_train[1]))]\n",
    "m_y = y_train.mean()\n",
    "sigma_y = y_train.std()\n",
    "X_train = (X_train - m_x) / sigma_x\n",
    "X_test = (X_test - m_x) / sigma_x\n",
    "y_train = (y_train - m_y) / sigma_y \n",
    "\n",
    "#Stocker les résultats\n",
    "result = []\n",
    "tab_alpha = []\n",
    "tab_mu = []\n",
    "\n",
    "alpha = [i for i in range(1,10)] #Plage de valeurs d'alpha\n",
    "mu = np.logspace(-1,3,30) #Plage de valeurs de mu\n",
    "\n",
    "#Double boucle pour trouver les hyperparamètres optimaux\n",
    "for a in alpha:\n",
    "    for m in mu:\n",
    "        beta_chap = cvx(X_train, y_train, a, m)\n",
    "        pred_test = np.dot(np.dot(X_test, beta_chap), sigma_y) + m_y \n",
    "        tab_alpha.append(a)\n",
    "        tab_mu.append(m)\n",
    "        result.append(mse(y_test, pred_test))\n",
    "        \n",
    "print(\"Paramètres optimaux : \")\n",
    "print(\"Lambda : %d\" %(tab_alpha[np.argmin(result)]) )\n",
    "print(\"Mu : %f\" %(tab_mu[np.argmin(result)]) )\n",
    "        "
   ]
  },
  {
   "cell_type": "markdown",
   "metadata": {},
   "source": [
    "&nbsp;\n",
    "\n",
    "<p style=\"text-align:justify;\"> On peut alors entraîner un modèle avec les hyperparamètres optimaux trouvés.</p>\n",
    "\n",
    "&nbsp;"
   ]
  },
  {
   "cell_type": "code",
   "execution_count": 34,
   "metadata": {},
   "outputs": [
    {
     "name": "stdout",
     "output_type": "stream",
     "text": [
      "Elastic Net -- MSE train : 20.19 \n",
      "Elastic Net -- MSE test : 24.28 \n"
     ]
    }
   ],
   "source": [
    "# Definition et résolution du problème \n",
    "beta_chap = cvx(X_train, y_train, tab_alpha[np.argmin(result)], tab_mu[np.argmin(result)])\n",
    "pred_train = np.dot(np.dot(X_train, beta_chap), sigma_y) + m_y\n",
    "pred_test = np.dot(np.dot(X_test, beta_chap), sigma_y) + m_y\n",
    "print(\"Elastic Net -- MSE train : %.2f \" %(mse(np.dot(y_train, sigma_y) + m_y , pred_train)))\n",
    "print(\"Elastic Net -- MSE test : %.2f \" %(mse(y_test, pred_test)))"
   ]
  },
  {
   "cell_type": "markdown",
   "metadata": {},
   "source": [
    "Donc sur notre jeu de données, Elastic Net n'apporte pas d'amélioration car avec Lasso on était à 24.27."
   ]
  },
  {
   "cell_type": "markdown",
   "metadata": {},
   "source": [
    "&nbsp;\n",
    "\n",
    "# Adaptive Lasso\n",
    "\n",
    "&nbsp;"
   ]
  },
  {
   "cell_type": "markdown",
   "metadata": {},
   "source": [
    "&nbsp;\n",
    "\n",
    "<p style=\"text-align:justify;\"> On s'intéresse maintenant au modèle Adaptive Lasso, qui consiste au problème de minimisation suivant : </p>\n",
    "\n",
    "$$\\min_{\\beta \\in \\mathbb{R}^p} \\lVert y - X \\beta \\rVert^2 + \\lambda \\sum_{j=1}^{p}w_j \\lvert \\beta_j \\rvert$$\n",
    "\n",
    "avec $w_j = \\frac{1}{\\lvert \\hat{\\beta_j} \\rvert_{MC}}$ et $\\hat{\\beta_{MC}} = (X^TX)^{-1}X^Ty$\n",
    "\n",
    "\n",
    "<p style=\"text-align:justify;\">Nous utiliserons la librairie CVX pour résoudre ce problème de minimisation. </p>\n",
    "\n",
    "&nbsp;"
   ]
  },
  {
   "cell_type": "code",
   "execution_count": 20,
   "metadata": {},
   "outputs": [],
   "source": [
    "def cvxLasso(X, y, alpha):\n",
    "    beta_chap_mc = np.linalg.solve(np.dot(X.T,X), np.dot(X.T,y)) #Résolution du système linéaire\n",
    "    beta_chap = cp.Variable(len(X[1]))\n",
    "    cost = cp.sum_squares(X*beta_chap - y) + alpha * cp.norm1(beta_chap / beta_chap_mc )\n",
    "    prob = cp.Problem(cp.Minimize(cost))\n",
    "    prob.solve()\n",
    "    return (beta_chap.value)"
   ]
  },
  {
   "cell_type": "markdown",
   "metadata": {},
   "source": [
    "&nbsp;\n",
    "\n",
    "<p style=\"text-align:justify;\"> Après normalisation des données, on effectue une validation croisée sur notre jeu de données test (à ne pas faire de base) afin de trouver le $\\lambda$ optimal. On entraîne ensuite nos données d'entraînement avec le $\\lambda$ optimal, puis on calcul le MSE de la prédiction sur les données test.</p>\n",
    "\n",
    "&nbsp;"
   ]
  },
  {
   "cell_type": "code",
   "execution_count": 23,
   "metadata": {},
   "outputs": [
    {
     "name": "stdout",
     "output_type": "stream",
     "text": [
      "Adaptive Lasso -- MSE test : 24.21 \n"
     ]
    }
   ],
   "source": [
    "X_train, X_test, y_train, y_test = train_test_split(X, y, test_size=0.5, random_state=rseed)\n",
    "\n",
    "m_x = [X_train[:,k].mean() for k in range(len(X_train[1]))]\n",
    "sigma_x = [X_train[:,k].std() for k in range(len(X_train[1]))]\n",
    "m_y = y_train.mean()\n",
    "sigma_y = y_train.std()\n",
    "X_train = (X_train - m_x) / sigma_x\n",
    "X_test = (X_test - m_x) / sigma_x\n",
    "y_train = (y_train - m_y) / sigma_y \n",
    "\n",
    "alpha = [i/10 for i in range(1,50)]\n",
    "\n",
    "result = []\n",
    "for a in alpha:\n",
    "    beta_chap = cvxLasso(X_train, y_train, a)\n",
    "    pred_test = np.dot(np.dot(X_test, beta_chap), sigma_y) + m_y\n",
    "    result.append(mse(y_test, pred_test))\n",
    "    \n",
    "best_lambda = alpha[np.argmin(result)]\n",
    "\n",
    "beta_chap = cvxLasso(X_train, y_train, best_lambda)\n",
    "pred_test = np.dot(np.dot(X_test, beta_chap), sigma_y) + m_y\n",
    "print(\"Adaptive Lasso -- MSE test : %.2f \" %(mse(y_test, pred_test)))"
   ]
  },
  {
   "cell_type": "code",
   "execution_count": 24,
   "metadata": {},
   "outputs": [
    {
     "data": {
      "text/plain": [
       "Text(0,0.5,'MSE')"
      ]
     },
     "execution_count": 24,
     "metadata": {},
     "output_type": "execute_result"
    },
    {
     "data": {
      "image/png": "[encoded data removed]",
      "text/plain": [
       "<matplotlib.figure.Figure at 0x1a1d60a390>"
      ]
     },
     "metadata": {},
     "output_type": "display_data"
    }
   ],
   "source": [
    "plt.figure()\n",
    "plt.plot(alpha, result, color='green', linestyle='--', marker='s', markersize=1, label='Test')\n",
    "plt.xlabel('Parametre Lambda')\n",
    "plt.ylabel('MSE')"
   ]
  },
  {
   "cell_type": "markdown",
   "metadata": {},
   "source": [
    "&nbsp;\n",
    "\n",
    "<p style=\"text-align:justify;\"> On trouve alors un MSE de 24.21, ce qui est de tous les modèles de ce TP, le meilleur résultat.</p>\n",
    "\n",
    "\n",
    "<p style=\"text-align:justify;\">Pour conclure, on peut retrenir de ce TP l'importance de coder les méthodes soit même en plus d'utiliser Scikit Learn pour vérifier nos résultats. Parfois les résultats sont meilleurs que Scikit Learn, et surtout là ou certains se seraient contenter d'utiliser Lasso avec Scikit Learn, d'autres sachant coder à la main les méthodes auraient donc utiliser Adaptive Lasso qui permet d'avoir de meilleurs résultats.</p>\n",
    "\n",
    "<p style=\"text-align:justify;\">On a aussi pu voir la puissance de la régression lasso, elastic Net et Adaptive Lasso, qui étaient 3 méthodes inconnus pour moi auparavant.</p>\n",
    "\n",
    "&nbsp;"
   ]
  }
 ],
 "metadata": {
  "kernelspec": {
   "display_name": "Python 3",
   "language": "python",
   "name": "python3"
  },
  "language_info": {
   "codemirror_mode": {
    "name": "ipython",
    "version": 3
   },
   "file_extension": ".py",
   "mimetype": "text/x-python",
   "name": "python",
   "nbconvert_exporter": "python",
   "pygments_lexer": "ipython3",
   "version": "3.6.7"
  }
 },
 "nbformat": 4,
 "nbformat_minor": 2
}
